{
 "cells": [
  {
   "cell_type": "markdown",
   "metadata": {
    "slideshow": {
     "slide_type": "slide"
    }
   },
   "source": [
    "<div style=\"color:white;\n",
    "           display:fill;\n",
    "           border-radius:5px;\n",
    "           background-color:#5642C5;\n",
    "           font-size:200%;\n",
    "           font-family:Arial;letter-spacing:0.5px\">\n",
    "\n",
    "<p width = 20%, style=\"padding: 10px;\n",
    "              color:white;\">\n",
    "Confidence Intervals\n",
    "              \n",
    "</p>\n",
    "</div>\n",
    "\n",
    "Data Science Cohort NYC August 2023\n",
    "<p>Phase 2</p>\n",
    "<br>\n",
    "<br>\n",
    "\n",
    "<div align = \"right\">\n",
    "<img src=\"images/flatiron-school-logo.png\" align = \"right\" width=\"200\"/>\n",
    "</div>\n",
    "    "
   ]
  },
  {
   "cell_type": "markdown",
   "metadata": {
    "heading_collapsed": true,
    "slideshow": {
     "slide_type": "slide"
    }
   },
   "source": [
    "# Confidence Intervals"
   ]
  },
  {
   "cell_type": "markdown",
   "metadata": {
    "heading_collapsed": true,
    "hidden": true,
    "slideshow": {
     "slide_type": "fragment"
    }
   },
   "source": [
    "## Learning Goals"
   ]
  },
  {
   "cell_type": "markdown",
   "metadata": {
    "hidden": true,
    "slideshow": {
     "slide_type": "fragment"
    }
   },
   "source": [
    "- Describe the use of confidence intervals\n",
    "- Construct confidence intervals for z and t distributions:   "
   ]
  },
  {
   "cell_type": "code",
   "execution_count": 2,
   "metadata": {
    "hidden": true,
    "slideshow": {
     "slide_type": "slide"
    }
   },
   "outputs": [],
   "source": [
    "import numpy as np\n",
    "from scipy import stats\n",
    "from matplotlib import pyplot as plt\n",
    "import seaborn as sns\n",
    "import pandas as pd\n",
    "from math import gamma\n",
    "%matplotlib inline"
   ]
  },
  {
   "cell_type": "markdown",
   "metadata": {
    "heading_collapsed": true,
    "slideshow": {
     "slide_type": "slide"
    }
   },
   "source": [
    "# Motivation & Intuition"
   ]
  },
  {
   "cell_type": "markdown",
   "metadata": {
    "hidden": true,
    "slideshow": {
     "slide_type": "slide"
    }
   },
   "source": [
    "Ever have an appointment with the cable company to setup your cable and/or internet?\n",
    "\n",
    "![xfinity logo](https://upload.wikimedia.org/wikipedia/commons/thumb/6/65/Xfinity_2017.svg/220px-Xfinity_2017.svg.png)"
   ]
  },
  {
   "cell_type": "markdown",
   "metadata": {
    "cell_style": "split",
    "hidden": true,
    "slideshow": {
     "slide_type": "fragment"
    }
   },
   "source": [
    "What did they tell you when they scheduled that appointment? \n",
    "\n",
    "Something like\n",
    "> We'll be at your home between 7am to 8pm "
   ]
  },
  {
   "cell_type": "markdown",
   "metadata": {
    "cell_style": "split",
    "hidden": true,
    "slideshow": {
     "slide_type": "fragment"
    }
   },
   "source": [
    "And they're usually right. This is close to how we use **confidence intervals**"
   ]
  },
  {
   "cell_type": "markdown",
   "metadata": {
    "heading_collapsed": true,
    "hidden": true,
    "slideshow": {
     "slide_type": "slide"
    }
   },
   "source": [
    "## Balancing Precision and Uncertainty"
   ]
  },
  {
   "cell_type": "markdown",
   "metadata": {
    "hidden": true,
    "slideshow": {
     "slide_type": "fragment"
    }
   },
   "source": [
    "When we sample a population, we'd like to use the sample to tell us something about the population. But we're never 100% sure that the sample statistic (like the mean) is reflective of the population's true value. Maybe we sampled a bunch of weird data points.\n",
    "\n",
    "There is a **trade-off** here between precision and certainty: The more precise we are in our estimate of a population parameter, the less certain we can be in our estimate, and vice versa.\n",
    "\n",
    "Sometimes it's important to be certain, and so we'll make our estimates relatively imprecise (like a window for an appointment to hook up cable). Other times it's important to be precise, and so we'll sacrifice a level of certainty for that precision."
   ]
  },
  {
   "cell_type": "markdown",
   "metadata": {
    "heading_collapsed": true,
    "slideshow": {
     "slide_type": "slide"
    }
   },
   "source": [
    "# Confidence Intervals"
   ]
  },
  {
   "cell_type": "markdown",
   "metadata": {
    "slideshow": {
     "slide_type": "slide"
    }
   },
   "source": [
    "Because sample statistics are imperfect representations of the true population values, it is often appropriate to state these estimates with **confidence intervals**.\n",
    "\n",
    "Before proceeding, let's talk about how to _interpret_ a confidence interval.\n",
    "\n",
    "Suppose our nature correspondent (or David Attenborough) takes several hundred measurements of parrot beak lengths in the Ganges river basin and calculates an average beak length of 9cm. He reports this measure by saying that the 90% confidence interval is (8.6, 9.4).\n",
    "\n",
    "This does NOT mean that 90% of beaks are somewhere between 8.6cm and 9.4cm. Rather, what our correspondent means is that, if we were to conduct the same measuring experiment many times, constructing intervals in the same way, **we should expect 90% of those intervals to contain the true population mean.**\n",
    "\n",
    "Again, for emphasis: \n",
    "\n",
    "> \"The **95%** in a **95% confidence interval** tells us that if we calculated a confidence interval from **100** different samples, about **95** of them would contain the **true population mean**.\"\n",
    "\n",
    "-- [Crash Course Statistic's video on Confidence Intervals](https://youtu.be/yDEvXB6ApWc)"
   ]
  },
  {
   "cell_type": "markdown",
   "metadata": {
    "cell_style": "center",
    "hidden": true,
    "slideshow": {
     "slide_type": "slide"
    }
   },
   "source": [
    "> **Confidence interval** will depend on the statistics of our sample: \n",
    "> * Our measured/observed **sample mean**\n",
    "> * Our **sample size**\n",
    "> * Also depends on the underlying distribution of our data \n",
    ">     - _Is it a normal distribution?_"
   ]
  },
  {
   "cell_type": "markdown",
   "metadata": {
    "slideshow": {
     "slide_type": "slide"
    }
   },
   "source": [
    " The confidence interval will be centered on our sample mean. To construct the endpoints we step out from the center based on the amount of variance allowed by our confidence level.\n",
    "\n",
    "We decide our confidence level - do we want to be 80% confident? 90%? 95%? 99%? \n",
    "\n",
    "Based on what we choose, we can then figure out our **margin of error**.\n",
    "\n",
    "### Margin of Error\n",
    "\n",
    "> ### Margin of Error = Critical Value * Sample Standard Error\n",
    "\n",
    "![source: https://courses.lumenlearning.com/wmopen-concepts-statistics/chapter/estimating-a-population-mean-3-of-3/](https://s3-us-west-2.amazonaws.com/courses-images/wp-content/uploads/sites/1729/2017/04/15032548/m10_inference_mean_topic_10_2_m10_est_pop_means_3_image1.png)\n",
    "\n",
    "Let's break down those two component parts:"
   ]
  },
  {
   "cell_type": "markdown",
   "metadata": {
    "slideshow": {
     "slide_type": "slide"
    }
   },
   "source": [
    "### Critical Value\n",
    "\n",
    "First things first - need your alpha ($\\alpha$). This is what you set when you pick your confidence level!\n",
    "\n",
    "$$\\large \\alpha = 1 - \\text{Confidence Level}$$\n",
    "\n",
    "So, if you pick a 95% confidence level, then $\\alpha$ = 1 - .95 = .05\n",
    "\n",
    "BUT because you want to be confident on either side, this actually ends up being divided by 2! \n",
    "$$.05 / 2 = \\large.025$$ \n",
    "This is the percentage of \"acceptable\" error on either side.\n",
    "\n",
    "Why does this matter? Because you'll feed this value into your search for your critical value - a value which comes from the probability at the point at which there's 2.5% on each side."
   ]
  },
  {
   "cell_type": "markdown",
   "metadata": {
    "slideshow": {
     "slide_type": "slide"
    }
   },
   "source": [
    "### Standard Error\n",
    "\n",
    "The standard error is the standard deviation of the sampling distribution. The issue is that a sample is not an exact replica of the population. We need to account for that in order to make our estimate of the $\\mu$ value possible. \n",
    "\n",
    "Let's break it down:\n",
    "\n",
    "**Population standard deviation**\n",
    "\n",
    "$$\\large \\sigma _{x} = \\frac{\\sigma }{\\sqrt{n}}$$\n",
    "\n",
    "* $ \\sigma _{x}$ = standard error of $\\bar{x} $\n",
    "* $ \\sigma $ = standard deviation of population"
   ]
  },
  {
   "cell_type": "markdown",
   "metadata": {
    "hidden": true,
    "slideshow": {
     "slide_type": "slide"
    }
   },
   "source": [
    "**What if we do not know the population standard deviation?** (which is most of the time)\n",
    "\n",
    "If we do not know the population standard deviation, we can approximate for it with the sample standard deviation, balanced by the sample size\n",
    "\n",
    "$$\\large \\sigma _{x} ≈ \\frac{s}{\\sqrt{n}}$$\n",
    "\n",
    "- s = sample standard deviation\n",
    "- n = sample size"
   ]
  },
  {
   "cell_type": "markdown",
   "metadata": {
    "slideshow": {
     "slide_type": "slide"
    }
   },
   "source": [
    "## Time for Python!\n",
    "\n",
    "Now that we know the pieces and what we need to calculate - we can just do this in Python."
   ]
  },
  {
   "cell_type": "code",
   "execution_count": 3,
   "metadata": {
    "slideshow": {
     "slide_type": "fragment"
    }
   },
   "outputs": [
    {
     "data": {
      "text/html": [
       "<div>\n",
       "<style scoped>\n",
       "    .dataframe tbody tr th:only-of-type {\n",
       "        vertical-align: middle;\n",
       "    }\n",
       "\n",
       "    .dataframe tbody tr th {\n",
       "        vertical-align: top;\n",
       "    }\n",
       "\n",
       "    .dataframe thead th {\n",
       "        text-align: right;\n",
       "    }\n",
       "</style>\n",
       "<table border=\"1\" class=\"dataframe\">\n",
       "  <thead>\n",
       "    <tr style=\"text-align: right;\">\n",
       "      <th></th>\n",
       "      <th>Department</th>\n",
       "      <th>LastName</th>\n",
       "      <th>FirstName</th>\n",
       "      <th>JobTitle</th>\n",
       "      <th>HourlyRate</th>\n",
       "    </tr>\n",
       "  </thead>\n",
       "  <tbody>\n",
       "    <tr>\n",
       "      <th>0</th>\n",
       "      <td>Seattle Public Utilities</td>\n",
       "      <td>Batchelor</td>\n",
       "      <td>Craig</td>\n",
       "      <td>Civil Engrng Spec,Sr</td>\n",
       "      <td>53.740</td>\n",
       "    </tr>\n",
       "    <tr>\n",
       "      <th>1</th>\n",
       "      <td>Finance &amp; Admin Services</td>\n",
       "      <td>Altice</td>\n",
       "      <td>Jeffrey</td>\n",
       "      <td>Auto Mechanic</td>\n",
       "      <td>39.780</td>\n",
       "    </tr>\n",
       "    <tr>\n",
       "      <th>2</th>\n",
       "      <td>Finance &amp; Admin Services</td>\n",
       "      <td>Montes</td>\n",
       "      <td>Valeria</td>\n",
       "      <td>Cust Svc Rep</td>\n",
       "      <td>29.450</td>\n",
       "    </tr>\n",
       "    <tr>\n",
       "      <th>3</th>\n",
       "      <td>Fire Department</td>\n",
       "      <td>Kuklok</td>\n",
       "      <td>Rebecca</td>\n",
       "      <td>Cust Svc Rep *</td>\n",
       "      <td>29.450</td>\n",
       "    </tr>\n",
       "    <tr>\n",
       "      <th>4</th>\n",
       "      <td>Planning &amp; Comm Development</td>\n",
       "      <td>Quirindongo</td>\n",
       "      <td>Rico</td>\n",
       "      <td>Executive3</td>\n",
       "      <td>97.164</td>\n",
       "    </tr>\n",
       "  </tbody>\n",
       "</table>\n",
       "</div>"
      ],
      "text/plain": [
       "                    Department     LastName FirstName              JobTitle  \\\n",
       "0     Seattle Public Utilities    Batchelor     Craig  Civil Engrng Spec,Sr   \n",
       "1     Finance & Admin Services       Altice   Jeffrey         Auto Mechanic   \n",
       "2     Finance & Admin Services       Montes   Valeria          Cust Svc Rep   \n",
       "3              Fire Department       Kuklok   Rebecca        Cust Svc Rep *   \n",
       "4  Planning & Comm Development  Quirindongo      Rico            Executive3   \n",
       "\n",
       "   HourlyRate  \n",
       "0      53.740  \n",
       "1      39.780  \n",
       "2      29.450  \n",
       "3      29.450  \n",
       "4      97.164  "
      ]
     },
     "execution_count": 3,
     "metadata": {},
     "output_type": "execute_result"
    }
   ],
   "source": [
    "# Read in our data\n",
    "df = pd.read_csv(\"data/City_of_Seattle_Wage_Data_031422.csv\")\n",
    "\n",
    "# Rename our columns\n",
    "df = df.rename(columns=lambda x: x.replace(\" \", \"\"))\n",
    "\n",
    "# Check it\n",
    "df.head()"
   ]
  },
  {
   "cell_type": "code",
   "execution_count": 4,
   "metadata": {
    "slideshow": {
     "slide_type": "slide"
    }
   },
   "outputs": [
    {
     "name": "stdout",
     "output_type": "stream",
     "text": [
      "Population Mean: 47.82, Population Standard Deviation: 16.72\n"
     ]
    }
   ],
   "source": [
    "# Let's check out our population parameters\n",
    "pop_mean = df['HourlyRate'].mean()\n",
    "pop_std = df['HourlyRate'].std()\n",
    "\n",
    "print(f\"Population Mean: {pop_mean:.2f}, Population Standard Deviation: {pop_std:.2f}\")"
   ]
  },
  {
   "cell_type": "code",
   "execution_count": 5,
   "metadata": {
    "slideshow": {
     "slide_type": "fragment"
    }
   },
   "outputs": [],
   "source": [
    "# Grab a single sample\n",
    "n = 30 # 30 employees in our sample\n",
    "sample = df.sample(n=n) "
   ]
  },
  {
   "cell_type": "code",
   "execution_count": 6,
   "metadata": {
    "slideshow": {
     "slide_type": "fragment"
    }
   },
   "outputs": [
    {
     "name": "stdout",
     "output_type": "stream",
     "text": [
      "Sample Mean: 47.36, Sample Standard Deviation: 13.39\n"
     ]
    }
   ],
   "source": [
    "# Grab our sample statistics\n",
    "sample_mean = np.mean(sample['HourlyRate'])\n",
    "sample_std = np.std(sample['HourlyRate'], ddof=1) # Using 1 'degree of freedom'\n",
    "\n",
    "print(f\"Sample Mean: {sample_mean:.2f}, Sample Standard Deviation: {sample_std:.2f}\")"
   ]
  },
  {
   "cell_type": "markdown",
   "metadata": {
    "slideshow": {
     "slide_type": "slide"
    }
   },
   "source": [
    "### Quick Aside: T-Distribution vs. Normal\n",
    "\n",
    "![z vs t](images/z_vs_t.png)\n",
    "\n",
    "If data is mostly normally distributed, we use the true Gaussian normal distribution when: \n",
    "\n",
    "- n > 30\n",
    "- population standard deviation is known\n",
    "\n",
    "Otherwise, we use the Student's T-Distribution, which has longer tails than a true Gaussian distribution and which accounts for sample size - but, as sample size increases, it looks closer and closer like the true normal distribution.\n",
    "\n",
    "For our purposes, although we know our 'population' standard deviation, we'll use the Student's T-distribtution."
   ]
  },
  {
   "cell_type": "code",
   "execution_count": 10,
   "metadata": {
    "slideshow": {
     "slide_type": "slide"
    }
   },
   "outputs": [
    {
     "data": {
      "text/plain": [
       "2.045229642132703"
      ]
     },
     "execution_count": 10,
     "metadata": {},
     "output_type": "execute_result"
    }
   ],
   "source": [
    "# 95% confidence cofidence level\n",
    "# Stats library! Calculating our critical value up until our 2.5%\n",
    "# In other words\n",
    "# alpha = 1 - .95 = .05\n",
    "# critical value = .05/2 = .025\n",
    "# 1 - .025 = 0.975\n",
    "\n",
    "t_value = stats.t.ppf(0.975, n-1) # N-1 shows the 'degrees of freedom'\n",
    "t_value"
   ]
  },
  {
   "cell_type": "code",
   "execution_count": 11,
   "metadata": {
    "slideshow": {
     "slide_type": "fragment"
    }
   },
   "outputs": [],
   "source": [
    "# Calculate our standard error\n",
    "samp_standard_error = sample_std / np.sqrt(n)"
   ]
  },
  {
   "cell_type": "code",
   "execution_count": 12,
   "metadata": {
    "slideshow": {
     "slide_type": "slide"
    }
   },
   "outputs": [
    {
     "name": "stdout",
     "output_type": "stream",
     "text": [
      "95% confident our population mean is between 42.362 and 52.362\n"
     ]
    }
   ],
   "source": [
    "# Calculate our margin of error\n",
    "margin_error = t_value * samp_standard_error\n",
    "\n",
    "# Now - the interval!\n",
    "interval_min = sample_mean - margin_error\n",
    "interval_max = sample_mean + margin_error\n",
    "print(f\"95% confident our population mean is between {interval_min:.3f} and {interval_max:.3f}\")"
   ]
  },
  {
   "cell_type": "code",
   "execution_count": 13,
   "metadata": {
    "slideshow": {
     "slide_type": "slide"
    }
   },
   "outputs": [
    {
     "name": "stderr",
     "output_type": "stream",
     "text": [
      "C:\\Users\\eduar\\AppData\\Local\\Temp\\ipykernel_13564\\1240277571.py:2: DeprecationWarning: Use of keyword argument 'alpha' for method 'interval' is deprecated and wil be removed in SciPy 1.11.0. Use first positional argument or keyword argument 'confidence' instead.\n",
      "  stats.t.interval(alpha=0.95,\n"
     ]
    },
    {
     "data": {
      "text/plain": [
       "(42.36155381970925, 52.36217951362408)"
      ]
     },
     "execution_count": 13,
     "metadata": {},
     "output_type": "execute_result"
    }
   ],
   "source": [
    "# Of course, there's also:\n",
    "stats.t.interval(alpha=0.95,\n",
    "                 loc = sample_mean,\n",
    "                 scale = stats.sem(sample['HourlyRate']),\n",
    "                 df=n-1)"
   ]
  },
  {
   "cell_type": "code",
   "execution_count": 15,
   "metadata": {},
   "outputs": [
    {
     "data": {
      "image/png": "[encoded data removed]",
      "text/plain": [
       "<Figure size 1000x800 with 1 Axes>"
      ]
     },
     "metadata": {},
     "output_type": "display_data"
    }
   ],
   "source": [
    "# Now let's see\n",
    "\n",
    "plt.figure(figsize=(10, 8))\n",
    "\n",
    "plt.vlines(pop_mean, 0, 2, lw=2,\n",
    "           label='Population Mean')\n",
    "\n",
    "plt.hlines(1, interval_min, interval_max, color='r', \n",
    "           label='Sample Confidence Interval')\n",
    "\n",
    "plt.xlim(pop_mean-15, pop_mean+15)\n",
    "plt.yticks(ticks=[1])\n",
    "plt.legend()\n",
    "plt.show()"
   ]
  },
  {
   "cell_type": "code",
   "execution_count": 27,
   "metadata": {},
   "outputs": [
    {
     "data": {
      "image/png": "[encoded data removed]",
      "text/plain": [
       "<Figure size 720x576 with 1 Axes>"
      ]
     },
     "metadata": {
      "needs_background": "light"
     },
     "output_type": "display_data"
    }
   ],
   "source": [
    "# Now let's do all this for 10 samples!\n",
    "\n",
    "intervals = []\n",
    "\n",
    "for x in range(10):\n",
    "    samp = df.sample(n=n) # Remember, n = 50 employees\n",
    "    samp_mean = np.mean(samp['HourlyRate'])\n",
    "    samp_std = np.std(samp['HourlyRate'], ddof=1)\n",
    "    \n",
    "    samp_sterr = samp_std / (n ** 0.5)\n",
    "    margin_error = stats.t.ppf(0.975, n-1) * samp_sterr\n",
    "    int_min = samp_mean - margin_error\n",
    "    int_max = samp_mean + margin_error\n",
    "    intervals.append([int_min, int_max])\n",
    "    \n",
    "plt.figure(figsize=(10, 8))\n",
    "\n",
    "plt.vlines(pop_mean, 0, 11, lw=2, label=f'Population Mean ({pop_mean:.2f})')\n",
    "\n",
    "for x in range(10):\n",
    "    plt.hlines(x+1, intervals[x][0], intervals[x][1], color='r')\n",
    "\n",
    "plt.ylabel(\"Sample Number\")\n",
    "plt.xlim(pop_mean-15, pop_mean+15)\n",
    "plt.yticks(ticks = range(1,11))\n",
    "plt.gca().invert_yaxis()\n",
    "plt.legend()\n",
    "plt.show()"
   ]
  },
  {
   "cell_type": "markdown",
   "metadata": {
    "slideshow": {
     "slide_type": "slide"
    }
   },
   "source": [
    "## Again, For Emphasis: Interpreting Confidence Intervals"
   ]
  },
  {
   "cell_type": "markdown",
   "metadata": {
    "slideshow": {
     "slide_type": "slide"
    }
   },
   "source": [
    "Wrong!!\n",
    "> ~~95% of ages are within our confidence interval~~\n",
    "\n",
    "Correct:\n",
    "> We are 95% confident that our actual mean population age is contained within our confidence interval.\n",
    "\n",
    "We are confident in this interval because we expect that a true population mean outside of this interval would produce these results 5% or less of the time. In other words, only an unlikely (but not impossible) sampling event could have caused us to calculate this interval, if the true mean is outside of this interval."
   ]
  },
  {
   "cell_type": "markdown",
   "metadata": {
    "slideshow": {
     "slide_type": "slide"
    }
   },
   "source": [
    "**The true population mean is a specific value and we do not know what it is.** The confidence level you choose is a question of how often you are willing to find an interval that does not include the true population mean, but it doesn't tell you whether this particular sample + interval calculation gave you the \"right\" answer."
   ]
  },
  {
   "cell_type": "markdown",
   "metadata": {
    "slideshow": {
     "slide_type": "slide"
    }
   },
   "source": [
    "## Key Points\n",
    "\n",
    "\n",
    "- **Sample statistics** are _supplemented_ with **confidence intervals** to approximate the population\n",
    "- We generally believe that a **sample statistic** is in the _neighborhood_ of true population's parameter\n",
    "- The larger the sample, the less likely we got all the \"weirdo\" data points from the population\n",
    "- We **trade certainty with precision** by expanding our interval\n",
    "- Taking multiple samples (experiments) gives us a better idea of where the true population parameter value lies"
   ]
  },
  {
   "cell_type": "markdown",
   "metadata": {
    "heading_collapsed": true,
    "slideshow": {
     "slide_type": "slide"
    }
   },
   "source": [
    "# Level Up! Exercise Time 💪🏼"
   ]
  },
  {
   "cell_type": "markdown",
   "metadata": {
    "hidden": true,
    "slideshow": {
     "slide_type": "fragment"
    }
   },
   "source": [
    "Your turn!\n",
    "\n",
    "You're weighing walruses in the Arctic in an attempt to estimate the mean weight of the Canadian walrus population. You have a sample of 30 walrus weights. The mean of the sample is 2000 lbs and the standard deviation is 200 lbs. \n",
    "\n",
    "\n",
    "1. Calculate the 80%-confidence interval. \n",
    "2. Calculate the 70%-confidence interval.\n",
    "3. How do they compare to the normal-distribution CIs? (to calculate the latter, just use the sample standard deviation)\n"
   ]
  },
  {
   "cell_type": "code",
   "execution_count": 16,
   "metadata": {},
   "outputs": [
    {
     "name": "stdout",
     "output_type": "stream",
     "text": [
      "(1945.6418703294353, 2054.358129398774)\n",
      "(1965.7401889446537, 2034.2598110553463)\n"
     ]
    },
    {
     "name": "stderr",
     "output_type": "stream",
     "text": [
      "C:\\Users\\eduar\\AppData\\Local\\Temp\\ipykernel_13564\\3565543066.py:7: DeprecationWarning: Use of keyword argument 'alpha' for method 'interval' is deprecated and wil be removed in SciPy 1.11.0. Use first positional argument or keyword argument 'confidence' instead.\n",
      "  conf_int_80 = stats.t.interval(alpha=confidence_level1, loc=sample_mean, scale=stats.sem(np.random.normal(loc=2000, scale=200, size=30)), df=n-1)\n",
      "C:\\Users\\eduar\\AppData\\Local\\Temp\\ipykernel_13564\\3565543066.py:8: DeprecationWarning: Use of keyword argument 'alpha' for method 'interval' is deprecated and wil be removed in SciPy 1.11.0. Use first positional argument or keyword argument 'confidence' instead.\n",
      "  conf_int_70 = stats.t.interval(alpha=confidence_level2, loc=sample_mean, scale=stats.sem(np.random.normal(loc=2000, scale=200, size=30)), df=n-1)\n"
     ]
    }
   ],
   "source": [
    "n = 30\n",
    "sample_mean = 2000\n",
    "sample_std = 200\n",
    "confidence_level1 = 0.80\n",
    "confidence_level2 = 0.70\n",
    "\n",
    "conf_int_80 = stats.t.interval(alpha=confidence_level1, loc=sample_mean, scale=sample_std/np.sqrt(n), df=n-1)\n",
    "conf_int_70 = stats.t.interval(alpha=confidence_level2, loc=sample_mean, scale=stats.sem(np.random.normal(loc=2000, scale=200, size=30)), df=n-1)\n",
    "\n",
    "print(conf_int_80)\n",
    "print(conf_int_70)"
   ]
  },
  {
   "cell_type": "code",
   "execution_count": 40,
   "metadata": {},
   "outputs": [
    {
     "name": "stdout",
     "output_type": "stream",
     "text": [
      "(1952.1132137963725, 2047.8867859641935)\n",
      "(1961.4658103151796, 2038.5341896848204)\n",
      "(1953.2043532630107, 2046.7956467369893)\n",
      "(1962.154803548181, 2037.845196451819)\n"
     ]
    }
   ],
   "source": [
    "n = 30\n",
    "mean_sample = 2000\n",
    "s = 200\n",
    "standard_error = sample_std/np.sqrt(sample_size)\n",
    "\n",
    "\n",
    "\n",
    "interval_80 = stats.t.interval(alpha=0.8,\n",
    "                 loc = 2000,\n",
    "                 scale = s/(n**.5),\n",
    "                 df=n-1)\n",
    "\n",
    "\n",
    "interval_70 = stats.t.interval(alpha=0.7,\n",
    "                 loc = 2000,\n",
    "                 scale = s/(n**.5),\n",
    "                 df=n-1)\n",
    "\n",
    "\n",
    "norm_interval_80 = stats.norm.interval(alpha=0.8,\n",
    "                 loc = 2000,\n",
    "                 scale = s/(n**.5))\n",
    "\n",
    "\n",
    "norm_interval_70 = stats.norm.interval(alpha=0.7,\n",
    "                 loc = 2000,\n",
    "                 scale = s/(n**.5))\n",
    "\n",
    "\n",
    "print(interval_80)\n",
    "print(interval_70)\n",
    "print(norm_interval_80)\n",
    "print(norm_interval_70)\n"
   ]
  },
  {
   "cell_type": "markdown",
   "metadata": {
    "slideshow": {
     "slide_type": "fragment"
    }
   },
   "source": [
    "<details>\n",
    "    <summary>Answer 1</summary>\n",
    "\n",
    "```python    \n",
    "# statistics\n",
    "n = 30\n",
    "x_bar = 2000\n",
    "s = 200\n",
    "    \n",
    "#calculate t-values\n",
    "t_value80 = stats.t.ppf(0.9, n-1)\n",
    "t_value70 = stats.t.ppf(0.85, n-1)\n",
    "    \n",
    "#calculate t-margins of error\n",
    "margin_error80 = t_value80 * 200/(n**0.5)\n",
    "margin_error70 = t_value70 * 200/(n**0.5)\n",
    "    \n",
    "#calculate 70%- and 80%-intervals\n",
    "conf_int80 = (x_bar - margin_error80, x_bar + margin_error80)\n",
    "conf_int70 = (x_bar - margin_error70, x_bar + margin_error70)\n",
    "    \n",
    "#calculate z-values\n",
    "z_score80 = stats.norm.ppf(0.9)\n",
    "z_score70 = stats.norm.ppf(0.85)\n",
    "    \n",
    "#calculate z-margins of error\n",
    "error_norm80 = z_score80 * 200/(n**0.5)\n",
    "error_norm70 = z_score70 * 200/(n**0.5)\n",
    "    \n",
    "#calculate 70%- and 80%-intervals\n",
    "conf_norm80 = (x_bar - error_norm80, x_bar + error_norm80)\n",
    "conf_norm70 = (x_bar - error_norm70, x_bar + error_norm70)\n",
    "    \n",
    "#print out results\n",
    "print(conf_int80)\n",
    "print(conf_int70)\n",
    "print(conf_norm80)\n",
    "print(conf_norm70)\n",
    "```"
   ]
  },
  {
   "cell_type": "markdown",
   "metadata": {
    "slideshow": {
     "slide_type": "fragment"
    }
   },
   "source": [
    "<details>\n",
    "    <summary>Answer 2</summary>\n",
    "\n",
    "```python\n",
    "n = 30\n",
    "s = 200\n",
    "\n",
    "#80\n",
    "stats.t.interval(confidence=0.8,\n",
    "                 loc = 2000,\n",
    "                 scale = s/(n**.5),\n",
    "                 df=n-1)\n",
    "#70   \n",
    "stats.t.interval(confidence=0.7,\n",
    "                 loc = 2000,\n",
    "                 scale = s/(n**.5),\n",
    "                 df=n-1)\n",
    "\n",
    "#80 norm\n",
    "stats.norm.interval(confidence=0.8,\n",
    "                 loc = 2000,\n",
    "                 scale = s/(n**.5))\n",
    "\n",
    "#70 norm\n",
    "stats.norm.interval(confidence=0.7,\n",
    "                 loc = 2000,\n",
    "                 scale = s/(n**.5))\n",
    "```"
   ]
  },
  {
   "cell_type": "markdown",
   "metadata": {
    "heading_collapsed": true
   },
   "source": [
    "# Level Up: Confidence Intervals for Non-Normally Distributed Data"
   ]
  },
  {
   "cell_type": "markdown",
   "metadata": {
    "hidden": true
   },
   "source": [
    "One of the most commonly used strategies for dealing with non-normally distributed data is to find a way to reduce the problem to one that involves normally distributed data!\n",
    "\n",
    "[Here](https://file.scirp.org/Html/3-1240887_76758.htm) is a review article that compares several different strategies. (Note that it ultimately recommends a sort of Bayesian method. We'll get to Bayesian reasoning in a later lesson.)"
   ]
  },
  {
   "cell_type": "markdown",
   "metadata": {
    "heading_collapsed": true
   },
   "source": [
    "# Level Up: Bootstrap"
   ]
  },
  {
   "cell_type": "markdown",
   "metadata": {
    "hidden": true
   },
   "source": [
    "One method of getting the confidence interval is to use **bootstrap** sampling. The idea is that we sample our sample to get an idea of what extreme values we could have got when sampling the population. With this, we can construct a confidence interval for our sample of the population \n",
    "\n",
    "The important to realize is we _only use our sample_ to determine the confidence interval."
   ]
  },
  {
   "cell_type": "markdown",
   "metadata": {
    "hidden": true
   },
   "source": [
    "![Sampling from population](https://github.com/flatiron-school/ds-central_limit_theorem/raw/008cecd491af6cf1df358903b6df622aac54c999/img/sample_pop.png)"
   ]
  },
  {
   "cell_type": "markdown",
   "metadata": {
    "hidden": true
   },
   "source": [
    "Below is an example of how this can be done."
   ]
  },
  {
   "cell_type": "markdown",
   "metadata": {
    "heading_collapsed": true,
    "hidden": true
   },
   "source": [
    "## Example"
   ]
  },
  {
   "cell_type": "code",
   "execution_count": 22,
   "metadata": {
    "hidden": true
   },
   "outputs": [],
   "source": [
    "# External file\n",
    "titanic_file = 'https://github.com/MrGeislinger/flatiron-school-data-science-curriculum-resources/raw/main/ProbabilityAndStats/StatisticalDistributions/data/titanic.csv'\n",
    "df_titanic = pd.read_csv(titanic_file)\n",
    "ages = df_titanic.Age.dropna()"
   ]
  },
  {
   "cell_type": "code",
   "execution_count": 23,
   "metadata": {
    "hidden": true
   },
   "outputs": [
    {
     "data": {
      "text/plain": [
       "0.42"
      ]
     },
     "metadata": {},
     "output_type": "display_data"
    },
    {
     "data": {
      "text/plain": [
       "80.0"
      ]
     },
     "metadata": {},
     "output_type": "display_data"
    },
    {
     "data": {
      "text/plain": [
       "14.516321150817316"
      ]
     },
     "metadata": {},
     "output_type": "display_data"
    },
    {
     "data": {
      "image/png": "[encoded data removed]",
      "text/plain": [
       "<Figure size 360x360 with 1 Axes>"
      ]
     },
     "metadata": {
      "needs_background": "light"
     },
     "output_type": "display_data"
    }
   ],
   "source": [
    "sns.displot(ages)\n",
    "display(np.min(ages), np.max(ages), np.std(ages))"
   ]
  },
  {
   "cell_type": "code",
   "execution_count": 24,
   "metadata": {
    "hidden": true
   },
   "outputs": [
    {
     "name": "stdout",
     "output_type": "stream",
     "text": [
      "27.292\n"
     ]
    },
    {
     "data": {
      "text/plain": [
       "271    25.00\n",
       "571    53.00\n",
       "521    22.00\n",
       "754    48.00\n",
       "508    28.00\n",
       "632    32.00\n",
       "445     4.00\n",
       "600    24.00\n",
       "450    36.00\n",
       "305     0.92\n",
       "Name: Age, dtype: float64"
      ]
     },
     "metadata": {},
     "output_type": "display_data"
    }
   ],
   "source": [
    "# Get an example sample\n",
    "sample = ages.sample(10, replace=True)\n",
    "print(sample.mean())\n",
    "display(sample)\n"
   ]
  },
  {
   "cell_type": "code",
   "execution_count": 25,
   "metadata": {
    "hidden": true
   },
   "outputs": [],
   "source": [
    "def get_all_sample_means(data, n=10, n_samples=100):\n",
    "    '''\n",
    "    '''\n",
    "    #\n",
    "    samples = np.random.choice(data, size=(n_samples, n))\n",
    "    means = np.mean(samples, axis=1)\n",
    "    #\n",
    "    return means"
   ]
  },
  {
   "cell_type": "code",
   "execution_count": 26,
   "metadata": {
    "hidden": true
   },
   "outputs": [
    {
     "data": {
      "text/plain": [
       "array([25.15 , 21.7  , 23.45 , 18.5  , 29.1  , 34.5  , 31.   , 31.8  ,\n",
       "       28.45 , 30.6  , 26.95 , 25.9  , 28.283, 29.25 , 33.3  , 24.7  ,\n",
       "       36.   , 30.8  , 34.1  , 32.15 , 23.9  , 28.9  , 28.55 , 34.6  ,\n",
       "       34.375, 25.575, 28.4  , 30.25 , 28.7  , 39.35 ])"
      ]
     },
     "execution_count": 26,
     "metadata": {},
     "output_type": "execute_result"
    }
   ],
   "source": [
    "# Get many samples and their respective means\n",
    "samples = get_all_sample_means(ages, n=10, n_samples=30)\n",
    "samples"
   ]
  },
  {
   "cell_type": "code",
   "execution_count": 27,
   "metadata": {
    "hidden": true
   },
   "outputs": [
    {
     "data": {
      "image/png": "[encoded data removed]",
      "text/plain": [
       "<Figure size 360x360 with 1 Axes>"
      ]
     },
     "metadata": {
      "needs_background": "light"
     },
     "output_type": "display_data"
    },
    {
     "data": {
      "image/png": "[encoded data removed]",
      "text/plain": [
       "<Figure size 360x360 with 1 Axes>"
      ]
     },
     "metadata": {
      "needs_background": "light"
     },
     "output_type": "display_data"
    }
   ],
   "source": [
    "# See the sample and the full data compared\n",
    "sns.displot(\n",
    "    samples,    # Shows sample means\n",
    "    rug=True\n",
    ")\n",
    "sns.displot(ages)\n",
    "plt.axvline(ages.mean(), color='red');"
   ]
  },
  {
   "cell_type": "markdown",
   "metadata": {
    "heading_collapsed": true,
    "hidden": true
   },
   "source": [
    "### Finding the Confidence Interval"
   ]
  },
  {
   "cell_type": "code",
   "execution_count": 28,
   "metadata": {
    "hidden": true
   },
   "outputs": [],
   "source": [
    "def bootstrap_sample(sample, n_samples=10**4):\n",
    "    '''\n",
    "    '''\n",
    "    #\n",
    "    bs_sample_means = get_all_sample_means(\n",
    "        sample, \n",
    "        n=len(sample),\n",
    "        n_samples=n_samples\n",
    "    )\n",
    "    \n",
    "    return bs_sample_means"
   ]
  },
  {
   "cell_type": "code",
   "execution_count": 29,
   "metadata": {
    "hidden": true
   },
   "outputs": [
    {
     "data": {
      "text/plain": [
       "27.292"
      ]
     },
     "metadata": {},
     "output_type": "display_data"
    },
    {
     "data": {
      "text/plain": [
       "array([28.784, 26.184, 31.   , ..., 20.884, 27.7  , 26.392])"
      ]
     },
     "metadata": {},
     "output_type": "display_data"
    }
   ],
   "source": [
    "b_sample_means = bootstrap_sample(sample)\n",
    "display(np.mean(sample))\n",
    "display(b_sample_means)"
   ]
  },
  {
   "cell_type": "code",
   "execution_count": 30,
   "metadata": {
    "hidden": true
   },
   "outputs": [
    {
     "data": {
      "image/png": "[encoded data removed]",
      "text/plain": [
       "<Figure size 360x360 with 1 Axes>"
      ]
     },
     "metadata": {
      "needs_background": "light"
     },
     "output_type": "display_data"
    }
   ],
   "source": [
    "sns.displot(b_sample_means)\n",
    "plt.axvline(b_sample_means.mean(), color='red');"
   ]
  },
  {
   "cell_type": "code",
   "execution_count": 31,
   "metadata": {
    "hidden": true
   },
   "outputs": [
    {
     "data": {
      "text/plain": [
       "27.241808000000002"
      ]
     },
     "execution_count": 31,
     "metadata": {},
     "output_type": "execute_result"
    }
   ],
   "source": [
    "np.mean(b_sample_means)"
   ]
  },
  {
   "cell_type": "code",
   "execution_count": 32,
   "metadata": {
    "hidden": true
   },
   "outputs": [
    {
     "data": {
      "text/plain": [
       "(17.494149955028707, 37.0898500449713)"
      ]
     },
     "execution_count": 32,
     "metadata": {},
     "output_type": "execute_result"
    }
   ],
   "source": [
    "two_std = np.std(b_sample_means)*2\n",
    "(np.mean(sample)-two_std, np.mean(sample)+two_std)"
   ]
  },
  {
   "cell_type": "code",
   "execution_count": null,
   "metadata": {},
   "outputs": [],
   "source": []
  }
 ],
 "metadata": {
  "hide_input": false,
  "kernelspec": {
   "display_name": "Python 3 (ipykernel)",
   "language": "python",
   "name": "python3"
  },
  "language_info": {
   "codemirror_mode": {
    "name": "ipython",
    "version": 3
   },
   "file_extension": ".py",
   "mimetype": "text/x-python",
   "name": "python",
   "nbconvert_exporter": "python",
   "pygments_lexer": "ipython3",
   "version": "3.8.5"
  },
  "latex_envs": {
   "LaTeX_envs_menu_present": true,
   "autoclose": false,
   "autocomplete": true,
   "bibliofile": "biblio.bib",
   "cite_by": "apalike",
   "current_citInitial": 1,
   "eqLabelWithNumbers": true,
   "eqNumInitial": 1,
   "hotkeys": {
    "equation": "Ctrl-E",
    "itemize": "Ctrl-I"
   },
   "labels_anchors": false,
   "latex_user_defs": false,
   "report_style_numbering": false,
   "user_envs_cfg": false
  },
  "nbTranslate": {
   "displayLangs": [
    "*"
   ],
   "hotkey": "alt-t",
   "langInMainMenu": true,
   "sourceLang": "en",
   "targetLang": "fr",
   "useGoogleTranslate": true
  },
  "toc": {
   "base_numbering": 1,
   "nav_menu": {},
   "number_sections": true,
   "sideBar": true,
   "skip_h1_title": false,
   "title_cell": "Table of Contents",
   "title_sidebar": "TOC",
   "toc_cell": true,
   "toc_position": {
    "height": "920px",
    "left": "565px",
    "top": "167px",
    "width": "324.391px"
   },
   "toc_section_display": true,
   "toc_window_display": false
  }
 },
 "nbformat": 4,
 "nbformat_minor": 4
}
