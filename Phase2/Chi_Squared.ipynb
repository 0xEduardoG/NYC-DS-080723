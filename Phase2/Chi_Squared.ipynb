{
 "cells": [
  {
   "cell_type": "markdown",
   "metadata": {
    "cell_style": "center",
    "slideshow": {
     "slide_type": "slide"
    }
   },
   "source": [
    "<div style=\"color:white;\n",
    "           display:fill;\n",
    "           border-radius:5px;\n",
    "           background-color:#5642C5;\n",
    "           font-size:200%;\n",
    "           font-family:Arial;letter-spacing:0.5px\">\n",
    "\n",
    "<p width = 20%, style=\"padding: 10px;\n",
    "              color:white;\">\n",
    "The Chi-Squared Tests\n",
    "              \n",
    "</p>\n",
    "</div>\n",
    "\n",
    "Data Science Cohort Live NYC 2023\n",
    "<p>Phase 2</p>\n",
    "<br>\n",
    "<br>\n",
    "\n",
    "<div align = \"right\">\n",
    "<img src=\"images/flatiron-school-logo.png\" align = \"right\" width=\"200\"/>\n",
    "</div>\n",
    "    \n",
    "    "
   ]
  },
  {
   "cell_type": "code",
   "execution_count": 1,
   "metadata": {
    "slideshow": {
     "slide_type": "slide"
    }
   },
   "outputs": [],
   "source": [
    "import pandas as pd\n",
    "import numpy as np\n",
    "import scipy.stats as stats\n",
    "import matplotlib.pyplot as plt\n",
    "%matplotlib inline"
   ]
  },
  {
   "cell_type": "markdown",
   "metadata": {
    "heading_collapsed": true,
    "slideshow": {
     "slide_type": "slide"
    }
   },
   "source": [
    "# Objectives"
   ]
  },
  {
   "cell_type": "markdown",
   "metadata": {
    "hidden": true,
    "slideshow": {
     "slide_type": "fragment"
    }
   },
   "source": [
    "- Understand how the $\\chi^2$-statistic and tests are similar to other hypothesis tests ($t$-test, ANOVA, etc.)\n",
    "- Calculate the $\\chi^2$-statistic\n",
    "- Perform a $\\chi^2$ goodness-of-fit test\n",
    "- Perform a $\\chi^2$ test for independence"
   ]
  },
  {
   "cell_type": "markdown",
   "metadata": {
    "hidden": true,
    "slideshow": {
     "slide_type": "slide"
    }
   },
   "source": [
    "We've seen from hypothesis tests that they generally follow this pattern:\n",
    "\n",
    "\n",
    "$$ \\frac{\\text{Observed difference} - \\text{Expectation if } H_0 \\text{ is true}}{\\text{Average Variance}}$$"
   ]
  },
  {
   "cell_type": "markdown",
   "metadata": {
    "slideshow": {
     "slide_type": "slide"
    }
   },
   "source": [
    "#### So far hypothesis testing:\n",
    "- Comparisons between groups *via the mean*\n",
    "\n",
    "\n",
    "#### Example\n",
    "Are the populations of the northern and southern Koala heights different? \n",
    "- Compare via hypothesis testing on the mean."
   ]
  },
  {
   "cell_type": "markdown",
   "metadata": {
    "heading_collapsed": true,
    "hidden": true,
    "slideshow": {
     "slide_type": "slide"
    }
   },
   "source": [
    "## A New Class: Non-Parametric Tests"
   ]
  },
  {
   "cell_type": "markdown",
   "metadata": {
    "hidden": true,
    "slideshow": {
     "slide_type": "fragment"
    }
   },
   "source": [
    "So far with $z$-tests, $t$-tests, and $F$-tests (ANOVA) we've been using the mean $\\mu$ and standard deviation $\\sigma$ to address a question. These are all *parametric tests* (use parameters to describe the null hypothesis)."
   ]
  },
  {
   "cell_type": "markdown",
   "metadata": {
    "hidden": true,
    "slideshow": {
     "slide_type": "slide"
    }
   },
   "source": [
    "But imagine if we had something like I asked 50 men and 50 women if they preferred pizza (🍕) or pasta (🍝)\n",
    "\n",
    "|     |  🍕 | 🍝  |\n",
    "| --- | --- | --- |\n",
    "|  ♀  | 31  | 19  |\n",
    "|  ♂  | 28  | 22  |\n",
    "\n",
    "We really couldn't say something about the average favorite food. "
   ]
  },
  {
   "cell_type": "markdown",
   "metadata": {
    "hidden": true,
    "slideshow": {
     "slide_type": "fragment"
    }
   },
   "source": [
    "Instead, we tend to talk about proportions or frequencies to describe the data. This is where *non-parametric tests* can come in handy."
   ]
  },
  {
   "cell_type": "markdown",
   "metadata": {
    "heading_collapsed": true,
    "slideshow": {
     "slide_type": "slide"
    }
   },
   "source": [
    "# The $\\chi^2$ Test"
   ]
  },
  {
   "cell_type": "markdown",
   "metadata": {
    "hidden": true,
    "slideshow": {
     "slide_type": "fragment"
    }
   },
   "source": [
    "When we talk about categorical variables vs other categorical variables (compared to continuous variables), the $\\chi^2$ test is a good fit for our test."
   ]
  },
  {
   "cell_type": "markdown",
   "metadata": {
    "hidden": true,
    "slideshow": {
     "slide_type": "fragment"
    }
   },
   "source": [
    "There are a few different $\\chi^2$ tests but they all center around the **$\\chi^2$ statistic** and the [**$\\chi^2$ distribution**](https://en.wikipedia.org/wiki/Chi-square_distribution)."
   ]
  },
  {
   "cell_type": "markdown",
   "metadata": {
    "hidden": true,
    "slideshow": {
     "slide_type": "slide"
    }
   },
   "source": [
    "![](https://upload.wikimedia.org/wikipedia/commons/thumb/2/21/Chi-square_distributionPDF.png/640px-Chi-square_distributionPDF.png)"
   ]
  },
  {
   "cell_type": "markdown",
   "metadata": {
    "hidden": true,
    "slideshow": {
     "slide_type": "fragment"
    }
   },
   "source": [
    "The number of degrees of freedom for the $\\chi^2$ distribution is $k$-1, where $k$ is the number of groups. For the $\\chi^2$ distribution $k$ is also the *mean* of the distribution:"
   ]
  },
  {
   "cell_type": "code",
   "execution_count": 10,
   "metadata": {
    "hidden": true,
    "slideshow": {
     "slide_type": "slide"
    }
   },
   "outputs": [
    {
     "data": {
      "text/plain": [
       "1.0"
      ]
     },
     "execution_count": 10,
     "metadata": {},
     "output_type": "execute_result"
    }
   ],
   "source": [
    "dist = stats.chi2(1)\n",
    "dist.mean()"
   ]
  },
  {
   "cell_type": "code",
   "execution_count": 11,
   "metadata": {
    "hidden": true,
    "slideshow": {
     "slide_type": "fragment"
    }
   },
   "outputs": [
    {
     "data": {
      "image/png": "[encoded data removed]",
      "text/plain": [
       "<Figure size 640x480 with 1 Axes>"
      ]
     },
     "metadata": {},
     "output_type": "display_data"
    }
   ],
   "source": [
    "fig, ax = plt.subplots()\n",
    "\n",
    "x = np.linspace(dist.ppf(0.1), dist.ppf(0.9), 100)\n",
    "y = dist.pdf(x)\n",
    "\n",
    "ax.plot(x, y)\n",
    "ax.set_title('$\\chi^2$ pdf, k=1');"
   ]
  },
  {
   "cell_type": "markdown",
   "metadata": {
    "hidden": true,
    "slideshow": {
     "slide_type": "slide"
    }
   },
   "source": [
    "Going back to our pizza vs pasta example, let's imagine we ask 100 individuals about their preference:\n",
    "\n",
    "\n",
    "|                  |  🍕 | 🍝  |\n",
    "| ---------------- | --- | --- |\n",
    "| **OBSERVATIONS** | 52  | 48  |\n",
    "\n",
    "\n",
    "It's not necessarily obvious if there is a _statistically_ significant difference in preference."
   ]
  },
  {
   "cell_type": "markdown",
   "metadata": {
    "hidden": true,
    "slideshow": {
     "slide_type": "fragment"
    }
   },
   "source": [
    "There are actually different $\\chi^2$ hypothesis tests and they have different use cases but all surround observing different categories from different groups."
   ]
  },
  {
   "cell_type": "markdown",
   "metadata": {
    "heading_collapsed": true,
    "slideshow": {
     "slide_type": "slide"
    }
   },
   "source": [
    "# $\\chi^2$ Goodness-of-Fit Test"
   ]
  },
  {
   "cell_type": "markdown",
   "metadata": {
    "hidden": true,
    "slideshow": {
     "slide_type": "fragment"
    }
   },
   "source": [
    "> If we are looking to see if some observed proportion _matches_ an expected proportion in relation to one variable, we do a **$\\chi^2$ goodness-of-fit test**."
   ]
  },
  {
   "cell_type": "markdown",
   "metadata": {
    "hidden": true,
    "slideshow": {
     "slide_type": "slide"
    }
   },
   "source": [
    "The steps follow like this:\n",
    "\n",
    "1. Start with your _observation_ frequencies/proportions for each group\n",
    "2. State what your _expectations_ were for each group\n",
    "3. Check your assumptions (no expected frequency $\\lt 5$)\n",
    "4. Calculate the $\\chi^2$ statistic\n",
    "5. Determine your p-value via your $\\chi^2$ statistic and degrees of freedom using the $\\chi^2$ distribution"
   ]
  },
  {
   "cell_type": "markdown",
   "metadata": {
    "hidden": true,
    "slideshow": {
     "slide_type": "fragment"
    }
   },
   "source": [
    "Let's try out an example as we work out how this test works."
   ]
  },
  {
   "cell_type": "markdown",
   "metadata": {
    "heading_collapsed": true,
    "hidden": true,
    "slideshow": {
     "slide_type": "slide"
    }
   },
   "source": [
    "## Observations"
   ]
  },
  {
   "cell_type": "markdown",
   "metadata": {
    "hidden": true,
    "slideshow": {
     "slide_type": "fragment"
    }
   },
   "source": [
    "Suppose a company has hired us on. The company has been running a website in the U.S. but is now expanding it to other countries, namely the U.K. They would like to know if the U.K. users are \"typical\" in comparison to U.S. users."
   ]
  },
  {
   "cell_type": "markdown",
   "metadata": {
    "hidden": true,
    "slideshow": {
     "slide_type": "fragment"
    }
   },
   "source": [
    "They tell us that at the beginning of signing up with the site, the users can choose one of four types of profiles: **A**, **B**, **C**, & **D**."
   ]
  },
  {
   "cell_type": "markdown",
   "metadata": {
    "slideshow": {
     "slide_type": "slide"
    }
   },
   "source": [
    "There was an experiment run by the company where $400$ U.K. users were given early access to the platform. Their choice in profiles were the following:"
   ]
  },
  {
   "cell_type": "code",
   "execution_count": 12,
   "metadata": {
    "slideshow": {
     "slide_type": "fragment"
    }
   },
   "outputs": [
    {
     "data": {
      "text/html": [
       "<div>\n",
       "<style scoped>\n",
       "    .dataframe tbody tr th:only-of-type {\n",
       "        vertical-align: middle;\n",
       "    }\n",
       "\n",
       "    .dataframe tbody tr th {\n",
       "        vertical-align: top;\n",
       "    }\n",
       "\n",
       "    .dataframe thead th {\n",
       "        text-align: right;\n",
       "    }\n",
       "</style>\n",
       "<table border=\"1\" class=\"dataframe\">\n",
       "  <thead>\n",
       "    <tr style=\"text-align: right;\">\n",
       "      <th></th>\n",
       "      <th>A</th>\n",
       "      <th>B</th>\n",
       "      <th>C</th>\n",
       "      <th>D</th>\n",
       "    </tr>\n",
       "  </thead>\n",
       "  <tbody>\n",
       "    <tr>\n",
       "      <th>UK USERS</th>\n",
       "      <td>50</td>\n",
       "      <td>100</td>\n",
       "      <td>180</td>\n",
       "      <td>70</td>\n",
       "    </tr>\n",
       "  </tbody>\n",
       "</table>\n",
       "</div>"
      ],
      "text/plain": [
       "           A    B    C   D\n",
       "UK USERS  50  100  180  70"
      ]
     },
     "execution_count": 12,
     "metadata": {},
     "output_type": "execute_result"
    }
   ],
   "source": [
    "data = [[50, 100, 180,70]]\n",
    "count_table = pd.DataFrame(data, index = ['UK USERS'], columns = ['A', 'B', 'C', 'D'] )\n",
    "count_table"
   ]
  },
  {
   "cell_type": "markdown",
   "metadata": {
    "heading_collapsed": true,
    "hidden": true,
    "slideshow": {
     "slide_type": "slide"
    }
   },
   "source": [
    "## Expected Values"
   ]
  },
  {
   "cell_type": "markdown",
   "metadata": {
    "hidden": true,
    "slideshow": {
     "slide_type": "fragment"
    }
   },
   "source": [
    "Now to determine if these U.K users are similar to U.S. users, we need to know what profile types  the U.S. users choose."
   ]
  },
  {
   "cell_type": "markdown",
   "metadata": {
    "hidden": true,
    "slideshow": {
     "slide_type": "fragment"
    }
   },
   "source": [
    "Suppose we have historical data on U.S. users and know:\n",
    "\n",
    "- **A** is chosen $15\\%$ of the time\n",
    "- **B** is chosen $20\\%$ of the time\n",
    "- **C** is chosen $45\\%$ of the time\n",
    "- **D** is chosen $20\\%$ of the time"
   ]
  },
  {
   "cell_type": "markdown",
   "metadata": {
    "slideshow": {
     "slide_type": "slide"
    }
   },
   "source": [
    "Then we would _expect_ that the $400$ U.K. users would follow the same pattern. Note this assumes the $H_0$ (there is no difference between U.K. & U.S. users). \n",
    "\n",
    "Thus we get the following expectations:\n",
    "\n",
    "|              |  A  |  B  |  C  |  D  |\n",
    "| ------------ | --- | --- | --- | --- |\n",
    "| **EXPECTED** | 60  | 80  | 180 | 80  |"
   ]
  },
  {
   "cell_type": "code",
   "execution_count": 13,
   "metadata": {
    "slideshow": {
     "slide_type": "fragment"
    }
   },
   "outputs": [
    {
     "data": {
      "text/html": [
       "<div>\n",
       "<style scoped>\n",
       "    .dataframe tbody tr th:only-of-type {\n",
       "        vertical-align: middle;\n",
       "    }\n",
       "\n",
       "    .dataframe tbody tr th {\n",
       "        vertical-align: top;\n",
       "    }\n",
       "\n",
       "    .dataframe thead th {\n",
       "        text-align: right;\n",
       "    }\n",
       "</style>\n",
       "<table border=\"1\" class=\"dataframe\">\n",
       "  <thead>\n",
       "    <tr style=\"text-align: right;\">\n",
       "      <th></th>\n",
       "      <th>A</th>\n",
       "      <th>B</th>\n",
       "      <th>C</th>\n",
       "      <th>D</th>\n",
       "    </tr>\n",
       "  </thead>\n",
       "  <tbody>\n",
       "    <tr>\n",
       "      <th>UK USERS</th>\n",
       "      <td>50</td>\n",
       "      <td>100</td>\n",
       "      <td>180</td>\n",
       "      <td>70</td>\n",
       "    </tr>\n",
       "    <tr>\n",
       "      <th>EXPECTED</th>\n",
       "      <td>60</td>\n",
       "      <td>80</td>\n",
       "      <td>180</td>\n",
       "      <td>80</td>\n",
       "    </tr>\n",
       "  </tbody>\n",
       "</table>\n",
       "</div>"
      ],
      "text/plain": [
       "           A    B    C   D\n",
       "UK USERS  50  100  180  70\n",
       "EXPECTED  60   80  180  80"
      ]
     },
     "execution_count": 13,
     "metadata": {},
     "output_type": "execute_result"
    }
   ],
   "source": [
    "us_data = [[60, 80, 180, 80]]\n",
    "count_table.loc[\"EXPECTED\"] =[60, 80, 180, 80]\n",
    "count_table"
   ]
  },
  {
   "cell_type": "markdown",
   "metadata": {
    "heading_collapsed": true,
    "hidden": true,
    "slideshow": {
     "slide_type": "slide"
    }
   },
   "source": [
    "## No Expected Frequency $\\lt 5$"
   ]
  },
  {
   "cell_type": "markdown",
   "metadata": {
    "hidden": true,
    "slideshow": {
     "slide_type": "fragment"
    }
   },
   "source": [
    "Quickly, we should note that if any of the expected frequency is less than $5$ the $\\chi^2$ test can have some issues."
   ]
  },
  {
   "cell_type": "markdown",
   "metadata": {
    "hidden": true,
    "slideshow": {
     "slide_type": "fragment"
    }
   },
   "source": [
    "Technically, this is arbitrary (like many of our limits in statistics) but is generally a good rule of thumb."
   ]
  },
  {
   "cell_type": "markdown",
   "metadata": {
    "hidden": true,
    "slideshow": {
     "slide_type": "fragment"
    }
   },
   "source": [
    "In this case, we see no expected frequency falls under $5$ so we're good to proceed! 👍🏼"
   ]
  },
  {
   "cell_type": "markdown",
   "metadata": {
    "hidden": true,
    "slideshow": {
     "slide_type": "slide"
    }
   },
   "source": [
    "## Calculate $\\chi^2$ Statistic\n",
    "Now we want to determine our test statistic. Recall what we want in a statistic:\n",
    "\n",
    "$$ \\large \\frac{\\text{Observed difference} - \\text{Expectation if } H_0 \\text{ is true}}{\\text{Average Variance}}$$"
   ]
  },
  {
   "cell_type": "markdown",
   "metadata": {
    "cell_style": "center",
    "hidden": true,
    "slideshow": {
     "slide_type": "slide"
    }
   },
   "source": [
    "Remember, we really want to capture the observed difference from what we'd expect. But if we did this and summed theses differences we'd always get $0$. So instead we square the differences before adding them."
   ]
  },
  {
   "cell_type": "markdown",
   "metadata": {
    "cell_style": "center",
    "hidden": true,
    "slideshow": {
     "slide_type": "fragment"
    }
   },
   "source": [
    "We still need to scale these differences and we naturally use the expectation value for each group."
   ]
  },
  {
   "cell_type": "markdown",
   "metadata": {
    "hidden": true,
    "slideshow": {
     "slide_type": "slide"
    }
   },
   "source": [
    "This gives us the $\\chi^2$ statistic:\n",
    "\n",
    "\n",
    "$$\\large \\chi^2 = \\sum \\frac{( Observed_i - Expected_i )^2}{Expected_i}$$"
   ]
  },
  {
   "cell_type": "markdown",
   "metadata": {
    "cell_style": "split",
    "hidden": true,
    "slideshow": {
     "slide_type": "fragment"
    }
   },
   "source": [
    "So back to our example, we'll use our table to organize the values:\n",
    "\n",
    "|                     |  A  |  B  |  C  |  D  |\n",
    "| :-----------------: | --- | --- | --- | --- |\n",
    "| **UK USERS**        | 50  | 100 | 180 | 70  |\n",
    "| **EXPECTED**        | 60  | 80  | 180 | 80  |\n",
    "| $\\frac{(E-O)^2}{E}$ | 1.67| 5.00| 0.00| 1.25|"
   ]
  },
  {
   "cell_type": "markdown",
   "metadata": {
    "cell_style": "split",
    "hidden": true,
    "slideshow": {
     "slide_type": "fragment"
    }
   },
   "source": [
    "This gives $\\chi^2 \\approx 1.67\t+ 5.00 + 0.00 + 1.25 = 7.92$"
   ]
  },
  {
   "cell_type": "markdown",
   "metadata": {
    "heading_collapsed": true,
    "hidden": true,
    "slideshow": {
     "slide_type": "slide"
    }
   },
   "source": [
    "## Determine p-value"
   ]
  },
  {
   "cell_type": "markdown",
   "metadata": {
    "hidden": true,
    "slideshow": {
     "slide_type": "fragment"
    }
   },
   "source": [
    "Our last step is to determine the p-value via the $\\chi^2$ distribution."
   ]
  },
  {
   "cell_type": "markdown",
   "metadata": {
    "hidden": true,
    "slideshow": {
     "slide_type": "fragment"
    }
   },
   "source": [
    "One consideration is the _degrees of freedom_ (think back to our $t$-distribution). But how do we calculate the degrees of freedom here?\n",
    "\n",
    "Well, the **degrees of freedom** are really related to **how many categories/groups** we used (number of categories minus 1: $df = k-1$)"
   ]
  },
  {
   "cell_type": "markdown",
   "metadata": {
    "hidden": true,
    "slideshow": {
     "slide_type": "fragment"
    }
   },
   "source": [
    "So in this case $df = 3$ and gives this distribution:"
   ]
  },
  {
   "cell_type": "markdown",
   "metadata": {
    "hidden": true,
    "slideshow": {
     "slide_type": "fragment"
    }
   },
   "source": [
    "Well, we also know our $\\chi^2$ statistic is $7.92$ so let's plot that too so we can see how much area under the is more extreme than our statistic:"
   ]
  },
  {
   "cell_type": "code",
   "execution_count": 14,
   "metadata": {
    "hidden": true,
    "slideshow": {
     "slide_type": "slide"
    }
   },
   "outputs": [
    {
     "data": {
      "image/png": "[encoded data removed]",
      "text/plain": [
       "<Figure size 640x480 with 1 Axes>"
      ]
     },
     "metadata": {},
     "output_type": "display_data"
    }
   ],
   "source": [
    "chisq_stat = 7.92\n",
    "degrees_of_freedom = 3\n",
    "x = np.linspace(\n",
    "        stats.chi2.ppf(0.000001, degrees_of_freedom),\n",
    "        stats.chi2.ppf(0.9999, degrees_of_freedom), \n",
    "        500)\n",
    "f, ax = plt.subplots()\n",
    "\n",
    "ax.set_title('chi^2 w/ df=3')\n",
    "ax.plot( x,stats.chi2.pdf(x, degrees_of_freedom), 'r-', lw=5)\n",
    "\n",
    "# Chi-square statistic\n",
    "ax.axvline(chisq_stat, ls='--', c='b', label='chi^2=7.92')\n",
    "ax.legend()\n",
    "plt.tight_layout();"
   ]
  },
  {
   "cell_type": "markdown",
   "metadata": {
    "hidden": true,
    "slideshow": {
     "slide_type": "-"
    }
   },
   "source": [
    "> Notice we used [`scipy.stats.chi2`](https://docs.scipy.org/doc/scipy/reference/generated/scipy.stats.chi2.html) to generate the PDF"
   ]
  },
  {
   "cell_type": "markdown",
   "metadata": {
    "hidden": true,
    "slideshow": {
     "slide_type": "slide"
    }
   },
   "source": [
    "This looks pretty small, but let's calculate the p-value to be sure. (Note we can use [`scipy.stats.chi2`](https://docs.scipy.org/doc/scipy/reference/generated/scipy.stats.chi2.html) again to calculate the p-value of the distribution.)"
   ]
  },
  {
   "cell_type": "code",
   "execution_count": 15,
   "metadata": {
    "cell_style": "center",
    "hidden": true,
    "slideshow": {
     "slide_type": "fragment"
    }
   },
   "outputs": [
    {
     "data": {
      "text/plain": [
       "0.04769432461632517"
      ]
     },
     "execution_count": 15,
     "metadata": {},
     "output_type": "execute_result"
    }
   ],
   "source": [
    "# Note that we subtract since we want the area to the right of the statistic\n",
    "p = 1 - stats.chi2.cdf(chisq_stat, df=degrees_of_freedom)\n",
    "p"
   ]
  },
  {
   "cell_type": "code",
   "execution_count": 16,
   "metadata": {
    "slideshow": {
     "slide_type": "fragment"
    }
   },
   "outputs": [
    {
     "data": {
      "text/plain": [
       "0.04769432461632514"
      ]
     },
     "execution_count": 16,
     "metadata": {},
     "output_type": "execute_result"
    }
   ],
   "source": [
    "stats.chi2.sf(chisq_stat, df=3)"
   ]
  },
  {
   "cell_type": "markdown",
   "metadata": {
    "hidden": true,
    "slideshow": {
     "slide_type": "fragment"
    }
   },
   "source": [
    "So not bad! For a significance level of $\\alpha=0.05$, we would say this is significantly different! So we can tell the company that, from the data provided, it appears that there is a statistically significant difference between U.S. and U.K. users."
   ]
  },
  {
   "cell_type": "markdown",
   "metadata": {
    "hidden": true,
    "slideshow": {
     "slide_type": "slide"
    }
   },
   "source": [
    "As we saw before, if it's common enough someone probably already coded this up. Turns out there's a SciPy function [`scipy.stats.chisquare`](https://docs.scipy.org/doc/scipy/reference/generated/scipy.stats.chisquare.html) that does this whole thing for us:"
   ]
  },
  {
   "cell_type": "code",
   "execution_count": 17,
   "metadata": {
    "hidden": true,
    "slideshow": {
     "slide_type": "fragment"
    }
   },
   "outputs": [
    {
     "data": {
      "text/plain": [
       "Power_divergenceResult(statistic=7.916666666666667, pvalue=0.047765718581262225)"
      ]
     },
     "execution_count": 17,
     "metadata": {},
     "output_type": "execute_result"
    }
   ],
   "source": [
    "observations = [50, 100, 180, 70]\n",
    "expectations = [60, 80, 180, 80]\n",
    "\n",
    "result = stats.chisquare(f_obs=observations, f_exp=expectations)\n",
    "result"
   ]
  },
  {
   "cell_type": "markdown",
   "metadata": {
    "hidden": true,
    "slideshow": {
     "slide_type": "fragment"
    }
   },
   "source": [
    "Sure enough, we get about the same values as we did by hand (but with a lot less work!)"
   ]
  },
  {
   "cell_type": "markdown",
   "metadata": {
    "cell_style": "center",
    "heading_collapsed": true,
    "slideshow": {
     "slide_type": "slide"
    }
   },
   "source": [
    "# $\\chi^2$ Test for Independence"
   ]
  },
  {
   "cell_type": "markdown",
   "metadata": {
    "hidden": true,
    "slideshow": {
     "slide_type": "fragment"
    }
   },
   "source": [
    "> In the **$\\chi^2$ test for independence**, we can handle _two_ categorical variables to see if being a member of one category is independent of being a member of another category."
   ]
  },
  {
   "cell_type": "markdown",
   "metadata": {
    "hidden": true,
    "slideshow": {
     "slide_type": "fragment"
    }
   },
   "source": [
    "Let's again go through an example to see how we might do this."
   ]
  },
  {
   "cell_type": "markdown",
   "metadata": {
    "heading_collapsed": true,
    "hidden": true,
    "slideshow": {
     "slide_type": "slide"
    }
   },
   "source": [
    "## Set Up"
   ]
  },
  {
   "cell_type": "markdown",
   "metadata": {
    "hidden": true,
    "slideshow": {
     "slide_type": "fragment"
    }
   },
   "source": [
    "That company from earlier was so impressed by your statistics skills, they decided to hire you again to dig deeper! They would like to see if a user's profile type choice (**A**, **B**, **C**, or **D**) is independent of their type of computer, Mac or PC."
   ]
  },
  {
   "cell_type": "markdown",
   "metadata": {
    "hidden": true,
    "slideshow": {
     "slide_type": "fragment"
    }
   },
   "source": [
    "Again, they gathered some data for you organized in this handy table:\n",
    "\n",
    "\n",
    "\n",
    "|         |  A  |  B  |  C  |  D  |\n",
    "| ------- | --- | --- | --- | --- |\n",
    "| **PC**  | 68  | 102 | 246 | 105 |\n",
    "| **Mac** | 86  | 88  | 216 | 89  |"
   ]
  },
  {
   "cell_type": "markdown",
   "metadata": {
    "heading_collapsed": true,
    "hidden": true,
    "slideshow": {
     "slide_type": "slide"
    }
   },
   "source": [
    "## Getting Our Expected Frequencies"
   ]
  },
  {
   "cell_type": "markdown",
   "metadata": {
    "hidden": true,
    "slideshow": {
     "slide_type": "fragment"
    }
   },
   "source": [
    "The first thing to help us out is to get our totals for each category (ignoring the other categories):\n",
    "\n",
    "|         |  A    |  B    |  C    |  D    |         |\n",
    "| ------- | ----- | ----- | ----- | ----- | ------- |\n",
    "| **PC**  |  68   |  102  | 246   | 105   | **521** |\n",
    "| **Mac** |  86   |  88   |  216  |  89   | **479** |\n",
    "|         |**154**|**190**|**462**|**194**| **1000**|"
   ]
  },
  {
   "cell_type": "markdown",
   "metadata": {
    "hidden": true,
    "slideshow": {
     "slide_type": "slide"
    }
   },
   "source": [
    "We now need to compare our observations with our expected frequencies from the null hypothesis $H_0$. Remember, that $H_0$ expects there to be _no difference_ between the two variables (profile types & computer type). So in this context our null hypothesis is that the choice of profile type and the computer type are **independent**."
   ]
  },
  {
   "cell_type": "markdown",
   "metadata": {
    "hidden": true,
    "slideshow": {
     "slide_type": "slide"
    }
   },
   "source": [
    "So, the expected _percent or proportion_ for each profile type is simply the total number that chose that profile divided by the total number of individuals.\n",
    "This gives us:\n",
    "- Expected **A** frequency: $\\frac{154}{1000} = 15.4\\%$\n",
    "- Expected **B** frequency: $\\frac{190}{1000} = 19.0\\%$\n",
    "- Expected **C** frequency: $\\frac{462}{1000} = 46.2\\%$\n",
    "- Expected **D** frequency: $\\frac{194}{1000} = 19.4\\%$"
   ]
  },
  {
   "cell_type": "markdown",
   "metadata": {
    "hidden": true,
    "slideshow": {
     "slide_type": "slide"
    }
   },
   "source": [
    "We can then use our other variable (computer type) to find the expected frequency that each of that category would be in the first category (profile type).\n",
    "\n",
    "So for example of the $521$ PC users, we expect $15.4\\%$ chose **A**, $19.0\\%$ chose **B**, $46.2\\%$ chose **C**, and $19.4\\%$ chose **D**. And the same proportion/percentage for the $479$ Mac users."
   ]
  },
  {
   "cell_type": "markdown",
   "metadata": {
    "cell_style": "split",
    "slideshow": {
     "slide_type": "slide"
    }
   },
   "source": [
    "- Expected **A** frequency: $\\frac{154}{1000} = 15.4\\%$\n",
    "- Expected **B** frequency: $\\frac{190}{1000} = 19.0\\%$\n",
    "- Expected **C** frequency: $\\frac{462}{1000} = 46.2\\%$\n",
    "- Expected **D** frequency: $\\frac{194}{1000} = 19.4\\%$"
   ]
  },
  {
   "cell_type": "markdown",
   "metadata": {
    "cell_style": "split",
    "hidden": true,
    "slideshow": {
     "slide_type": "-"
    }
   },
   "source": [
    "Summarizing this in our table, we go from this:\n",
    "\n",
    "|         |  A    |  B    |  C    |  D    |         |\n",
    "| ------- | ----- | ----- | ----- | ----- | ------- |\n",
    "| **PC**  |  68   |  102  | 246   | 105   | **521** |\n",
    "| **Mac** |  86   |  88   |  216  |  89   | **479** |\n",
    "|         |**154**|**190**|**462**|**194**| **1000**|\n",
    "\n",
    "to this:\n",
    "\n",
    "|         |  A    |  B    |  C    |  D    |\n",
    "| ------- | ----- | ----- | ----- | ----- |\n",
    "| **PC**  |80.234 | 98.99 |240.702|101.074|\n",
    "| **Mac** |73.766 |91.01  |221.298|92.926 |"
   ]
  },
  {
   "cell_type": "markdown",
   "metadata": {
    "heading_collapsed": true,
    "hidden": true,
    "slideshow": {
     "slide_type": "slide"
    }
   },
   "source": [
    "## Calculating the $\\chi^2$ Statistic"
   ]
  },
  {
   "cell_type": "markdown",
   "metadata": {
    "hidden": true,
    "slideshow": {
     "slide_type": "fragment"
    }
   },
   "source": [
    "Now that we have both our observed and the expected frequencies, we can use the $\\chi^2$ formula $\\frac{(E-O)^2}{E}$ for each cell, and then sum them up to get our $\\chi^2$ statistic."
   ]
  },
  {
   "cell_type": "markdown",
   "metadata": {
    "hidden": true,
    "slideshow": {
     "slide_type": "slide"
    }
   },
   "source": [
    "This would be a good point to code up some of this:"
   ]
  },
  {
   "cell_type": "code",
   "execution_count": 18,
   "metadata": {
    "hidden": true,
    "slideshow": {
     "slide_type": "fragment"
    }
   },
   "outputs": [],
   "source": [
    "# Our observations\n",
    "obs = np.array([[ 68, 102, 246, 105],\n",
    "                [ 86, 88, 216, 89]])\n",
    "\n",
    "# Our expectations\n",
    "exp = np.array([[ 80.234, 98.99, 240.702, 101.074],\n",
    "                [ 73.766, 91.01, 221.298, 92.926]])"
   ]
  },
  {
   "cell_type": "code",
   "execution_count": 19,
   "metadata": {
    "hidden": true,
    "slideshow": {
     "slide_type": "fragment"
    }
   },
   "outputs": [
    {
     "data": {
      "text/plain": [
       "array([[1.86542807, 0.09152541, 0.11661226, 0.15249694],\n",
       "       [2.02899379, 0.0995506 , 0.12683713, 0.16586828]])"
      ]
     },
     "execution_count": 19,
     "metadata": {},
     "output_type": "execute_result"
    }
   ],
   "source": [
    "chi_formula_cells = (obs - exp)**2 / exp\n",
    "chi_formula_cells"
   ]
  },
  {
   "cell_type": "code",
   "execution_count": 20,
   "metadata": {
    "hidden": true,
    "slideshow": {
     "slide_type": "fragment"
    }
   },
   "outputs": [
    {
     "data": {
      "text/plain": [
       "4.647312487410241"
      ]
     },
     "execution_count": 20,
     "metadata": {},
     "output_type": "execute_result"
    }
   ],
   "source": [
    "# Sum up to get the chisq stat; note we flatten to make summing easier\n",
    "chisq_stat = sum(chi_formula_cells.flatten())\n",
    "chisq_stat"
   ]
  },
  {
   "cell_type": "markdown",
   "metadata": {
    "heading_collapsed": true,
    "hidden": true,
    "slideshow": {
     "slide_type": "slide"
    }
   },
   "source": [
    "## Determine p-value"
   ]
  },
  {
   "cell_type": "markdown",
   "metadata": {
    "hidden": true,
    "slideshow": {
     "slide_type": "fragment"
    }
   },
   "source": [
    "We again use the $\\chi^2$ distribution to calculate the p-value but we must first consider the degrees of freedom.\n",
    "\n",
    "In this test, we had two different groups considered together and we the consider the number of combinations of categories in each group. But again, we have to subtract one off. So it is simply $df = (n_{rows} - 1)\\cdot(n_{cols} -1)$."
   ]
  },
  {
   "cell_type": "markdown",
   "metadata": {
    "hidden": true,
    "slideshow": {
     "slide_type": "fragment"
    }
   },
   "source": [
    "In our case, $df=(2-1)\\cdot(4-1)=3$."
   ]
  },
  {
   "cell_type": "markdown",
   "metadata": {
    "hidden": true,
    "slideshow": {
     "slide_type": "slide"
    }
   },
   "source": [
    "Let's check out the visual graph before calculating the p-value:"
   ]
  },
  {
   "cell_type": "code",
   "execution_count": 21,
   "metadata": {
    "hidden": true,
    "slideshow": {
     "slide_type": "slide"
    }
   },
   "outputs": [
    {
     "data": {
      "image/png": "[encoded data removed]",
      "text/plain": [
       "<Figure size 640x480 with 1 Axes>"
      ]
     },
     "metadata": {},
     "output_type": "display_data"
    }
   ],
   "source": [
    "chisq_stat = 4.65\n",
    "degrees_of_freedom = 3\n",
    "\n",
    "x = np.linspace(\n",
    "        stats.chi2.ppf(0.000001, degrees_of_freedom),\n",
    "        stats.chi2.ppf(0.9999, degrees_of_freedom), \n",
    "        500\n",
    ")\n",
    "\n",
    "f, ax = plt.subplots()\n",
    "ax.set_title('chi^2 w/ df=3')\n",
    "ax.plot(x, stats.chi2.pdf(x, degrees_of_freedom), 'r-', lw=5)\n",
    "\n",
    "# Chi-square statistic\n",
    "ax.axvline(chisq_stat, ls='--', c='b', label='chi^2=4.65')\n",
    "ax.legend()\n",
    "plt.tight_layout()"
   ]
  },
  {
   "cell_type": "code",
   "execution_count": 22,
   "metadata": {
    "hidden": true,
    "slideshow": {
     "slide_type": "slide"
    }
   },
   "outputs": [
    {
     "data": {
      "text/plain": [
       "0.1992945576980797"
      ]
     },
     "execution_count": 22,
     "metadata": {},
     "output_type": "execute_result"
    }
   ],
   "source": [
    "# Note we subract since we want the area to the right of the statistic\n",
    "p = 1 - stats.chi2.cdf(chisq_stat, df=degrees_of_freedom)\n",
    "p"
   ]
  },
  {
   "cell_type": "markdown",
   "metadata": {
    "hidden": true,
    "slideshow": {
     "slide_type": "fragment"
    }
   },
   "source": [
    "So in this case, we cannot reject the null hypothesis that profile type and computer type are independent."
   ]
  },
  {
   "cell_type": "markdown",
   "metadata": {
    "heading_collapsed": true,
    "hidden": true,
    "slideshow": {
     "slide_type": "slide"
    }
   },
   "source": [
    "## Before You Ask, There _Is_ a Faster Method"
   ]
  },
  {
   "cell_type": "markdown",
   "metadata": {
    "hidden": true,
    "slideshow": {
     "slide_type": "fragment"
    }
   },
   "source": [
    "And of course there's a SciPy method for this: [`scipy.stats.chi2_contingency`](https://docs.scipy.org/doc/scipy/reference/generated/scipy.stats.chi2_contingency.html)"
   ]
  },
  {
   "cell_type": "code",
   "execution_count": 23,
   "metadata": {
    "hidden": true,
    "slideshow": {
     "slide_type": "fragment"
    }
   },
   "outputs": [
    {
     "data": {
      "text/plain": [
       "array([[ 68, 102, 246, 105],\n",
       "       [ 86,  88, 216,  89]])"
      ]
     },
     "execution_count": 23,
     "metadata": {},
     "output_type": "execute_result"
    }
   ],
   "source": [
    "obs"
   ]
  },
  {
   "cell_type": "code",
   "execution_count": 24,
   "metadata": {
    "hidden": true,
    "slideshow": {
     "slide_type": "fragment"
    }
   },
   "outputs": [
    {
     "data": {
      "text/plain": [
       "Chi2ContingencyResult(statistic=4.647312487410241, pvalue=0.19952075187952806, dof=3, expected_freq=array([[ 80.234,  98.99 , 240.702, 101.074],\n",
       "       [ 73.766,  91.01 , 221.298,  92.926]]))"
      ]
     },
     "execution_count": 24,
     "metadata": {},
     "output_type": "execute_result"
    }
   ],
   "source": [
    "result = stats.contingency.chi2_contingency(obs)\n",
    "chi, p, dof, exp = result\n",
    "result\n"
   ]
  },
  {
   "cell_type": "markdown",
   "metadata": {
    "heading_collapsed": true,
    "slideshow": {
     "slide_type": "slide"
    }
   },
   "source": [
    "# Exercise 👋 🧠"
   ]
  },
  {
   "cell_type": "markdown",
   "metadata": {
    "hidden": true,
    "slideshow": {
     "slide_type": "fragment"
    }
   },
   "source": [
    "Suppose a survey was given to people asking their handedness and their level of education.\n",
    "\n",
    "For fun, we would like to see if these categories are independent from another."
   ]
  },
  {
   "cell_type": "markdown",
   "metadata": {
    "hidden": true,
    "slideshow": {
     "slide_type": "fragment"
    }
   },
   "source": [
    "\n",
    "|            | High School|Some College | College  |\n",
    "|:-----      | ------     | -----       | -----    |\n",
    "|Righty      | 15         | 28          |   37     |\n",
    "|Lefty       | 25         | 27          |   29     |\n",
    "|Ambidextrous| 32         | 12          |   26     |\n"
   ]
  },
  {
   "cell_type": "code",
   "execution_count": 30,
   "metadata": {},
   "outputs": [
    {
     "data": {
      "text/plain": [
       "Chi2ContingencyResult(statistic=14.907604285169699, pvalue=0.00489673880856604, dof=4, expected_freq=array([[24.93506494, 23.2034632 , 31.86147186],\n",
       "       [25.24675325, 23.49350649, 32.25974026],\n",
       "       [21.81818182, 20.3030303 , 27.87878788]]))"
      ]
     },
     "execution_count": 30,
     "metadata": {},
     "output_type": "execute_result"
    }
   ],
   "source": [
    "obs = np.array([[15,28,37],[25,27,29],[32,12,26]])\n",
    "\n",
    "result = stats.contingency.chi2_contingency(obs)\n",
    "#chi, p, dof, exp = result\n",
    "result"
   ]
  },
  {
   "cell_type": "markdown",
   "metadata": {
    "slideshow": {
     "slide_type": "fragment"
    }
   },
   "source": [
    "<details>\n",
    "    <summary>Answer</summary>\n",
    "\n",
    "```python\n",
    "righty = np.array([15, 28, 37])\n",
    "lefty = np.array([25, 27, 29])\n",
    "ambidextrous = np.array([32, 12, 26])\n",
    "table = np.vstack((righty,\n",
    "                   lefty,\n",
    "                   ambidextrous))\n",
    "stats.contingency.chi2_contingency(table)\n",
    "```    \n",
    "</details>"
   ]
  },
  {
   "cell_type": "markdown",
   "metadata": {
    "heading_collapsed": true,
    "slideshow": {
     "slide_type": "slide"
    }
   },
   "source": [
    "# Contingency Tables"
   ]
  },
  {
   "cell_type": "markdown",
   "metadata": {
    "hidden": true,
    "slideshow": {
     "slide_type": "fragment"
    }
   },
   "source": [
    "Note in the earlier examples how useful those makeshift tables were! \n",
    "\n",
    "|         |  A    |  B    |  C    |  D    |         |\n",
    "| ------- | ----- | ----- | ----- | ----- | ------- |\n",
    "| **PC**  |  68   |  102  | 246   | 107   | **521** |\n",
    "| **Mac** |  86   |  88   |  216  |  89   | **479** |\n",
    "|         |**152**|**190**|**462**|**196**| **1000**|\n",
    "\n",
    "Well, I didn't have that idea all by myself."
   ]
  },
  {
   "cell_type": "markdown",
   "metadata": {
    "hidden": true,
    "slideshow": {
     "slide_type": "slide"
    }
   },
   "source": [
    "These are called **contingency tables** (aka _cross tabulation_ or _two-way frequency_ tables). These tables display the frequencies of categorical variables."
   ]
  },
  {
   "cell_type": "markdown",
   "metadata": {
    "hidden": true,
    "slideshow": {
     "slide_type": "fragment"
    }
   },
   "source": [
    "In this lecture, we looked at the most common contingency tables, **two-way** tables. These are sometimes called **$r \\times c $ contingency tables**"
   ]
  },
  {
   "cell_type": "markdown",
   "metadata": {
    "hidden": true,
    "slideshow": {
     "slide_type": "fragment"
    }
   },
   "source": [
    "> Note we had to feed in a contingency table (without totals) for `scipy.stats.contingency.chi2_contingency()`"
   ]
  }
 ],
 "metadata": {
  "kernelspec": {
   "display_name": "Python 3 (ipykernel)",
   "language": "python",
   "name": "python3"
  },
  "language_info": {
   "codemirror_mode": {
    "name": "ipython",
    "version": 3
   },
   "file_extension": ".py",
   "mimetype": "text/x-python",
   "name": "python",
   "nbconvert_exporter": "python",
   "pygments_lexer": "ipython3",
   "version": "3.8.5"
  },
  "toc": {
   "base_numbering": 1,
   "nav_menu": {},
   "number_sections": true,
   "sideBar": true,
   "skip_h1_title": false,
   "title_cell": "Table of Contents",
   "title_sidebar": "TOC",
   "toc_cell": true,
   "toc_position": {
    "height": "calc(100% - 180px)",
    "left": "10px",
    "top": "150px",
    "width": "406px"
   },
   "toc_section_display": true,
   "toc_window_display": true
  }
 },
 "nbformat": 4,
 "nbformat_minor": 4
}
